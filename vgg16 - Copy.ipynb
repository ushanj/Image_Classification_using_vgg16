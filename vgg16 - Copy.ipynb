{
 "cells": [
  {
   "cell_type": "code",
   "execution_count": 2,
   "id": "6398a1b1",
   "metadata": {},
   "outputs": [],
   "source": [
    "import pandas as pd\n",
    "import numpy as np\n",
    "import matplotlib.pyplot as plt\n",
    "import seaborn as sns\n",
    "import tensorflow as tf\n",
    "from tensorflow import keras\n",
    "from keras.preprocessing.image import ImageDataGenerator\n",
    "#from keras.applications import VGG16\n",
    "from keras.applications.vgg16 import VGG16\n",
    "from keras.layers import AveragePooling2D\n",
    "from keras.layers import Dropout\n",
    "from keras.layers import Flatten\n",
    "from keras.layers import Dense\n",
    "from keras.layers import Input\n",
    "from keras.models import Model\n",
    "#from keras.optimizers import Adam\n",
    "from tensorflow.keras.optimizers import Adam\n",
    "#from keras.utils import to_categorical\n",
    "from tensorflow.keras.utils import to_categorical\n",
    "from sklearn.preprocessing import LabelBinarizer\n",
    "from sklearn.preprocessing import LabelEncoder\n",
    "from sklearn.preprocessing import OneHotEncoder\n",
    "from sklearn.model_selection import train_test_split\n",
    "from sklearn.metrics import classification_report\n",
    "from sklearn.metrics import confusion_matrix\n",
    "from imutils import paths\n",
    "import shutil\n",
    "import random\n",
    "import cv2\n",
    "import argparse\n",
    "import os\n",
    "import numpy as np\n",
    "import matplotlib.pyplot as plt\n",
    "\n",
    "import keras\n",
    "from keras.layers import Dense, Conv2D, MaxPool2D, Dropout, Flatten\n",
    "# Dropout -> Prevent Overfitting \n",
    "from keras.models import Sequential\n",
    "from keras.preprocessing import image"
   ]
  },
  {
   "cell_type": "code",
   "execution_count": 2,
   "id": "d1719c0f",
   "metadata": {},
   "outputs": [
    {
     "name": "stdout",
     "output_type": "stream",
     "text": [
      "Found 8475 images belonging to 3 classes.\n"
     ]
    }
   ],
   "source": [
    "train_datagen = image.ImageDataGenerator(\n",
    "    rescale= 1/255, horizontal_flip= True, zoom_range= 0.2 , shear_range= 0.2\n",
    ")\n",
    "\n",
    "train_data = train_datagen.flow_from_directory(directory=\"D:/DataSets/X ray/TB Data Set/TBX11K/imgs/train\", target_size= (256,256), batch_size= 16,\n",
    "                                               class_mode = 'binary'\n",
    "                                               )"
   ]
  },
  {
   "cell_type": "code",
   "execution_count": 3,
   "id": "3db810c9",
   "metadata": {},
   "outputs": [
    {
     "data": {
      "text/plain": [
       "{'LungCancer': 0, 'healthy': 1, 'tb': 2}"
      ]
     },
     "execution_count": 3,
     "metadata": {},
     "output_type": "execute_result"
    }
   ],
   "source": [
    "train_data.class_indices"
   ]
  },
  {
   "cell_type": "code",
   "execution_count": 4,
   "id": "485e29c9",
   "metadata": {},
   "outputs": [
    {
     "name": "stdout",
     "output_type": "stream",
     "text": [
      "Found 7173 images belonging to 3 classes.\n"
     ]
    }
   ],
   "source": [
    "test_datagen = image.ImageDataGenerator(\n",
    "    rescale= 1/255\n",
    ")\n",
    "\n",
    "test_data = test_datagen.flow_from_directory(directory=\"D:/DataSets/X ray/TB Data Set/TBX11K/imgs/test\", target_size= (256,256), \n",
    "                                                batch_size= 16,\n",
    "                                               class_mode = 'binary'\n",
    "                                               )"
   ]
  },
  {
   "cell_type": "code",
   "execution_count": null,
   "id": "be4de004",
   "metadata": {},
   "outputs": [],
   "source": []
  },
  {
   "cell_type": "code",
   "execution_count": 5,
   "id": "20043b96",
   "metadata": {},
   "outputs": [],
   "source": [
    "# initialize the initial learning rate, number of epochs to train for,\n",
    "# and batch size\n",
    "INIT_LR = 1e-3\n",
    "EPOCHS = 100\n",
    "BS = 8\n",
    "\n",
    "# Set the image augmentation of the training data\n",
    "trainAug = ImageDataGenerator(rotation_range= 15, fill_mode='nearest')"
   ]
  },
  {
   "cell_type": "code",
   "execution_count": 6,
   "id": "72928c69",
   "metadata": {},
   "outputs": [],
   "source": [
    "dataset_path=\"D:/DataSets/X ray/TB Data Set/TBX11K/imgs/train\""
   ]
  },
  {
   "cell_type": "code",
   "execution_count": 7,
   "id": "b2a9eb82",
   "metadata": {},
   "outputs": [
    {
     "name": "stdout",
     "output_type": "stream",
     "text": [
      "[INFO] loading images...\n",
      "[INFO] Images successfully loaded\n"
     ]
    }
   ],
   "source": [
    "# lets take the labels of each image in the directory to make a classfication\n",
    "print(\"[INFO] loading images...\")\n",
    "imagePaths = list(paths.list_images(dataset_path))\n",
    "data = []\n",
    "labels = []\n",
    "# loop over the image paths\n",
    "for imagePath in imagePaths:\n",
    "    # extract the class label from the filename\n",
    "    label = imagePath.split(os.path.sep)[-2]\n",
    "    # load the image, swap color channels, and resize it to be a fixed\n",
    "    # 224x224 pixels while ignoring aspect ratio\n",
    "    image = cv2.imread(imagePath)\n",
    "    image = cv2.cvtColor(image, cv2.COLOR_BGR2RGB)\n",
    "    image = cv2.resize(image, (224, 224))\n",
    "    # update the data and labels lists, respectively\n",
    "    data.append(image)\n",
    "    labels.append(label)\n",
    "# convert the data and labels to NumPy arrays while scaling the pixel\n",
    "# intensities to the range [0, 1]\n",
    "data = np.array(data) / 255.0\n",
    "labels = np.array(labels)\n",
    "print(\"[INFO] Images successfully loaded\")"
   ]
  },
  {
   "cell_type": "code",
   "execution_count": 8,
   "id": "6a62d554",
   "metadata": {},
   "outputs": [
    {
     "name": "stdout",
     "output_type": "stream",
     "text": [
      "8475\n",
      "8475\n"
     ]
    }
   ],
   "source": [
    "print(len(labels))\n",
    "print(len(data))"
   ]
  },
  {
   "cell_type": "code",
   "execution_count": 9,
   "id": "e4a71316",
   "metadata": {},
   "outputs": [],
   "source": [
    "# Now we will create a One-Hot encoding to the list of labels to make the classfication\n",
    "# integer encode\n",
    "lb_encoder = LabelEncoder()\n",
    "labels = lb_encoder.fit_transform(labels)\n",
    "labels = to_categorical(labels)\n",
    "\n",
    "\n",
    "# Split the data into training and testing using the 80% of training and 20% to testing\n",
    "X_train, X_test, y_train, y_test = train_test_split(data, labels, test_size = 0.2, stratify = labels,random_state = 42)\n",
    "\n",
    "\n",
    "# Set the image augmentation of the training data\n",
    "trainAug = ImageDataGenerator(rotation_range= 15, fill_mode='nearest')"
   ]
  },
  {
   "cell_type": "code",
   "execution_count": 10,
   "id": "2f212716",
   "metadata": {},
   "outputs": [
    {
     "data": {
      "text/plain": [
       "6780"
      ]
     },
     "execution_count": 10,
     "metadata": {},
     "output_type": "execute_result"
    }
   ],
   "source": [
    "len(X_train)"
   ]
  },
  {
   "cell_type": "code",
   "execution_count": 11,
   "id": "8a820f93",
   "metadata": {},
   "outputs": [
    {
     "data": {
      "text/plain": [
       "(224, 224, 3)"
      ]
     },
     "execution_count": 11,
     "metadata": {},
     "output_type": "execute_result"
    }
   ],
   "source": [
    "data.shape[1:]"
   ]
  },
  {
   "cell_type": "markdown",
   "id": "2228f33a",
   "metadata": {},
   "source": [
    "# VGG16 Model"
   ]
  },
  {
   "cell_type": "code",
   "execution_count": 12,
   "id": "e8e21215",
   "metadata": {
    "scrolled": true
   },
   "outputs": [
    {
     "name": "stderr",
     "output_type": "stream",
     "text": [
      "C:\\Users\\USHAN\\anaconda3\\envs\\ml\\lib\\site-packages\\keras\\optimizers\\optimizer_v2\\adam.py:110: UserWarning: The `lr` argument is deprecated, use `learning_rate` instead.\n",
      "  super(Adam, self).__init__(name, **kwargs)\n"
     ]
    }
   ],
   "source": [
    "base_model = VGG16(weights = 'imagenet', include_top=False, input_tensor=Input(shape=(224,224,3)))\n",
    "headmodel = base_model.output\n",
    "headmodel = AveragePooling2D(pool_size =(4, 4))(headmodel)\n",
    "headmodel = Flatten(name ='Flatten')(headmodel)\n",
    "headmodel = Dense(64, activation = 'relu')(headmodel)\n",
    "headmodel = Dropout(0.5)(headmodel)\n",
    "headmodel = Dense(3, activation = 'softmax')(headmodel)\n",
    "\n",
    "model = Model(inputs = base_model.input, outputs = headmodel)\n",
    "\n",
    "for layers in base_model.layers:\n",
    "    layers.trainable = False\n",
    "\n",
    "\n",
    "opt = Adam(lr = INIT_LR, decay = INIT_LR/EPOCHS)\n",
    "model.compile(loss = 'binary_crossentropy', optimizer = opt, metrics = ['accuracy'])"
   ]
  },
  {
   "cell_type": "code",
   "execution_count": 13,
   "id": "c39433a7",
   "metadata": {
    "scrolled": true
   },
   "outputs": [
    {
     "name": "stdout",
     "output_type": "stream",
     "text": [
      "Model: \"model\"\n",
      "_________________________________________________________________\n",
      " Layer (type)                Output Shape              Param #   \n",
      "=================================================================\n",
      " input_1 (InputLayer)        [(None, 224, 224, 3)]     0         \n",
      "                                                                 \n",
      " block1_conv1 (Conv2D)       (None, 224, 224, 64)      1792      \n",
      "                                                                 \n",
      " block1_conv2 (Conv2D)       (None, 224, 224, 64)      36928     \n",
      "                                                                 \n",
      " block1_pool (MaxPooling2D)  (None, 112, 112, 64)      0         \n",
      "                                                                 \n",
      " block2_conv1 (Conv2D)       (None, 112, 112, 128)     73856     \n",
      "                                                                 \n",
      " block2_conv2 (Conv2D)       (None, 112, 112, 128)     147584    \n",
      "                                                                 \n",
      " block2_pool (MaxPooling2D)  (None, 56, 56, 128)       0         \n",
      "                                                                 \n",
      " block3_conv1 (Conv2D)       (None, 56, 56, 256)       295168    \n",
      "                                                                 \n",
      " block3_conv2 (Conv2D)       (None, 56, 56, 256)       590080    \n",
      "                                                                 \n",
      " block3_conv3 (Conv2D)       (None, 56, 56, 256)       590080    \n",
      "                                                                 \n",
      " block3_pool (MaxPooling2D)  (None, 28, 28, 256)       0         \n",
      "                                                                 \n",
      " block4_conv1 (Conv2D)       (None, 28, 28, 512)       1180160   \n",
      "                                                                 \n",
      " block4_conv2 (Conv2D)       (None, 28, 28, 512)       2359808   \n",
      "                                                                 \n",
      " block4_conv3 (Conv2D)       (None, 28, 28, 512)       2359808   \n",
      "                                                                 \n",
      " block4_pool (MaxPooling2D)  (None, 14, 14, 512)       0         \n",
      "                                                                 \n",
      " block5_conv1 (Conv2D)       (None, 14, 14, 512)       2359808   \n",
      "                                                                 \n",
      " block5_conv2 (Conv2D)       (None, 14, 14, 512)       2359808   \n",
      "                                                                 \n",
      " block5_conv3 (Conv2D)       (None, 14, 14, 512)       2359808   \n",
      "                                                                 \n",
      " block5_pool (MaxPooling2D)  (None, 7, 7, 512)         0         \n",
      "                                                                 \n",
      " average_pooling2d (AverageP  (None, 1, 1, 512)        0         \n",
      " ooling2D)                                                       \n",
      "                                                                 \n",
      " Flatten (Flatten)           (None, 512)               0         \n",
      "                                                                 \n",
      " dense (Dense)               (None, 64)                32832     \n",
      "                                                                 \n",
      " dropout (Dropout)           (None, 64)                0         \n",
      "                                                                 \n",
      " dense_1 (Dense)             (None, 3)                 195       \n",
      "                                                                 \n",
      "=================================================================\n",
      "Total params: 14,747,715\n",
      "Trainable params: 33,027\n",
      "Non-trainable params: 14,714,688\n",
      "_________________________________________________________________\n"
     ]
    }
   ],
   "source": [
    "model.summary()"
   ]
  },
  {
   "cell_type": "code",
   "execution_count": 15,
   "id": "8af326da",
   "metadata": {
    "scrolled": true
   },
   "outputs": [
    {
     "name": "stderr",
     "output_type": "stream",
     "text": [
      "C:\\Users\\USHAN\\AppData\\Local\\Temp\\ipykernel_10244\\2753477973.py:1: UserWarning: `Model.fit_generator` is deprecated and will be removed in a future version. Please use `Model.fit`, which supports generators.\n",
      "  training = model.fit_generator(trainAug.flow(X_train, y_train, batch_size = BS),steps_per_epoch=len(X_train) // BS, validation_data=(X_test, y_test), validation_steps=len(X_test) // BS, epochs=1)\n"
     ]
    },
    {
     "name": "stdout",
     "output_type": "stream",
     "text": [
      "847/847 [==============================] - ETA: 0s - loss: 0.1392 - accuracy: 0.9306WARNING:tensorflow:Your input ran out of data; interrupting training. Make sure that your dataset or generator can generate at least `steps_per_epoch * epochs` batches (in this case, 211 batches). You may need to use the repeat() function when building your dataset.\n",
      "847/847 [==============================] - 2416s 3s/step - loss: 0.1392 - accuracy: 0.9306 - val_loss: 0.0778 - val_accuracy: 0.9670\n"
     ]
    }
   ],
   "source": [
    "training = model.fit_generator(trainAug.flow(X_train, y_train, batch_size = BS),steps_per_epoch=len(X_train) // BS, validation_data=(X_test, y_test), validation_steps=len(X_test) // BS, epochs=1)"
   ]
  },
  {
   "cell_type": "code",
   "execution_count": 25,
   "id": "dd163d00",
   "metadata": {
    "scrolled": false
   },
   "outputs": [
    {
     "data": {
      "image/png": "[encoded data removed]",
      "text/plain": [
       "<Figure size 432x288 with 1 Axes>"
      ]
     },
     "metadata": {},
     "output_type": "display_data"
    }
   ],
   "source": [
    "# plot the training loss and accuracy\n",
    "#N = EPOCHS\n",
    "N = 1\n",
    "plt.style.use('ggplot')\n",
    "plt.figure()\n",
    "plt.plot(np.arange(0, N), training.history[\"loss\"], label=\"train_loss\")\n",
    "#plt.plot(np.arange(0, N), training.history[\"val_loss\"], label=\"val_loss\")\n",
    "plt.plot(np.arange(0, N), training.history[\"accuracy\"], label=\"train_acc\")\n",
    "#plt.plot(np.arange(0, N), training.history[\"val_accuracy\"], label=\"val_acc\")\n",
    "plt.title(\"Training Loss and Accuracy for Classification between Lung Cancer/Tb/Normal\")\n",
    "plt.xlabel(\"Epoch #\")\n",
    "plt.ylabel(\"Loss/Accuracy\")\n",
    "plt.legend(loc=\"upper right\", bbox_to_anchor=(1.25, 1))\n",
    "plt.savefig(\"plot.png\")"
   ]
  },
  {
   "cell_type": "code",
   "execution_count": 26,
   "id": "e0a2a28f",
   "metadata": {},
   "outputs": [],
   "source": [
    "# print(tf._version_)"
   ]
  },
  {
   "cell_type": "code",
   "execution_count": 18,
   "id": "8c9ad726",
   "metadata": {},
   "outputs": [],
   "source": [
    "model.save_weights(\"model_vgg16_2.h5\")"
   ]
  },
  {
   "cell_type": "code",
   "execution_count": 34,
   "id": "10fc5785",
   "metadata": {},
   "outputs": [],
   "source": [
    "model.save(\"model_vgg16_2.h5\")"
   ]
  },
  {
   "cell_type": "code",
   "execution_count": 8,
   "id": "a76ed0d6",
   "metadata": {},
   "outputs": [
    {
     "name": "stdout",
     "output_type": "stream",
     "text": [
      "Model: \"model\"\n",
      "_________________________________________________________________\n",
      " Layer (type)                Output Shape              Param #   \n",
      "=================================================================\n",
      " input_1 (InputLayer)        [(None, 224, 224, 3)]     0         \n",
      "                                                                 \n",
      " block1_conv1 (Conv2D)       (None, 224, 224, 64)      1792      \n",
      "                                                                 \n",
      " block1_conv2 (Conv2D)       (None, 224, 224, 64)      36928     \n",
      "                                                                 \n",
      " block1_pool (MaxPooling2D)  (None, 112, 112, 64)      0         \n",
      "                                                                 \n",
      " block2_conv1 (Conv2D)       (None, 112, 112, 128)     73856     \n",
      "                                                                 \n",
      " block2_conv2 (Conv2D)       (None, 112, 112, 128)     147584    \n",
      "                                                                 \n",
      " block2_pool (MaxPooling2D)  (None, 56, 56, 128)       0         \n",
      "                                                                 \n",
      " block3_conv1 (Conv2D)       (None, 56, 56, 256)       295168    \n",
      "                                                                 \n",
      " block3_conv2 (Conv2D)       (None, 56, 56, 256)       590080    \n",
      "                                                                 \n",
      " block3_conv3 (Conv2D)       (None, 56, 56, 256)       590080    \n",
      "                                                                 \n",
      " block3_pool (MaxPooling2D)  (None, 28, 28, 256)       0         \n",
      "                                                                 \n",
      " block4_conv1 (Conv2D)       (None, 28, 28, 512)       1180160   \n",
      "                                                                 \n",
      " block4_conv2 (Conv2D)       (None, 28, 28, 512)       2359808   \n",
      "                                                                 \n",
      " block4_conv3 (Conv2D)       (None, 28, 28, 512)       2359808   \n",
      "                                                                 \n",
      " block4_pool (MaxPooling2D)  (None, 14, 14, 512)       0         \n",
      "                                                                 \n",
      " block5_conv1 (Conv2D)       (None, 14, 14, 512)       2359808   \n",
      "                                                                 \n",
      " block5_conv2 (Conv2D)       (None, 14, 14, 512)       2359808   \n",
      "                                                                 \n",
      " block5_conv3 (Conv2D)       (None, 14, 14, 512)       2359808   \n",
      "                                                                 \n",
      " block5_pool (MaxPooling2D)  (None, 7, 7, 512)         0         \n",
      "                                                                 \n",
      " average_pooling2d (AverageP  (None, 1, 1, 512)        0         \n",
      " ooling2D)                                                       \n",
      "                                                                 \n",
      " Flatten (Flatten)           (None, 512)               0         \n",
      "                                                                 \n",
      " dense (Dense)               (None, 64)                32832     \n",
      "                                                                 \n",
      " dropout (Dropout)           (None, 64)                0         \n",
      "                                                                 \n",
      " dense_1 (Dense)             (None, 3)                 195       \n",
      "                                                                 \n",
      "=================================================================\n",
      "Total params: 14,747,715\n",
      "Trainable params: 33,027\n",
      "Non-trainable params: 14,714,688\n",
      "_________________________________________________________________\n"
     ]
    }
   ],
   "source": [
    "new_model = keras.models.load_model(\"model_vgg16_2.h5\")\n",
    "new_model.summary()"
   ]
  },
  {
   "cell_type": "code",
   "execution_count": 12,
   "id": "e7f68b53",
   "metadata": {},
   "outputs": [
    {
     "name": "stdout",
     "output_type": "stream",
     "text": [
      "Model: \"model\"\n",
      "_________________________________________________________________\n",
      " Layer (type)                Output Shape              Param #   \n",
      "=================================================================\n",
      " input_1 (InputLayer)        [(None, 224, 224, 3)]     0         \n",
      "                                                                 \n",
      " block1_conv1 (Conv2D)       (None, 224, 224, 64)      1792      \n",
      "                                                                 \n",
      " block1_conv2 (Conv2D)       (None, 224, 224, 64)      36928     \n",
      "                                                                 \n",
      " block1_pool (MaxPooling2D)  (None, 112, 112, 64)      0         \n",
      "                                                                 \n",
      " block2_conv1 (Conv2D)       (None, 112, 112, 128)     73856     \n",
      "                                                                 \n",
      " block2_conv2 (Conv2D)       (None, 112, 112, 128)     147584    \n",
      "                                                                 \n",
      " block2_pool (MaxPooling2D)  (None, 56, 56, 128)       0         \n",
      "                                                                 \n",
      " block3_conv1 (Conv2D)       (None, 56, 56, 256)       295168    \n",
      "                                                                 \n",
      " block3_conv2 (Conv2D)       (None, 56, 56, 256)       590080    \n",
      "                                                                 \n",
      " block3_conv3 (Conv2D)       (None, 56, 56, 256)       590080    \n",
      "                                                                 \n",
      " block3_pool (MaxPooling2D)  (None, 28, 28, 256)       0         \n",
      "                                                                 \n",
      " block4_conv1 (Conv2D)       (None, 28, 28, 512)       1180160   \n",
      "                                                                 \n",
      " block4_conv2 (Conv2D)       (None, 28, 28, 512)       2359808   \n",
      "                                                                 \n",
      " block4_conv3 (Conv2D)       (None, 28, 28, 512)       2359808   \n",
      "                                                                 \n",
      " block4_pool (MaxPooling2D)  (None, 14, 14, 512)       0         \n",
      "                                                                 \n",
      " block5_conv1 (Conv2D)       (None, 14, 14, 512)       2359808   \n",
      "                                                                 \n",
      " block5_conv2 (Conv2D)       (None, 14, 14, 512)       2359808   \n",
      "                                                                 \n",
      " block5_conv3 (Conv2D)       (None, 14, 14, 512)       2359808   \n",
      "                                                                 \n",
      " block5_pool (MaxPooling2D)  (None, 7, 7, 512)         0         \n",
      "                                                                 \n",
      " average_pooling2d (AverageP  (None, 1, 1, 512)        0         \n",
      " ooling2D)                                                       \n",
      "                                                                 \n",
      " Flatten (Flatten)           (None, 512)               0         \n",
      "                                                                 \n",
      " dense (Dense)               (None, 64)                32832     \n",
      "                                                                 \n",
      " dropout (Dropout)           (None, 64)                0         \n",
      "                                                                 \n",
      " dense_1 (Dense)             (None, 3)                 195       \n",
      "                                                                 \n",
      "=================================================================\n",
      "Total params: 14,747,715\n",
      "Trainable params: 33,027\n",
      "Non-trainable params: 14,714,688\n",
      "_________________________________________________________________\n"
     ]
    }
   ],
   "source": [
    "new_model.summary()"
   ]
  },
  {
   "cell_type": "code",
   "execution_count": 50,
   "id": "a89261c1",
   "metadata": {},
   "outputs": [],
   "source": [
    "# It can be used to reconstruct the model identically.\n",
    "#reconstructed_model = keras.models.load_model(\"model_vgg16_1.h5\")\n",
    "# loaded_model.load_weights(\"model_vgg16_2.h5\")"
   ]
  },
  {
   "cell_type": "code",
   "execution_count": 9,
   "id": "8ced8f9b",
   "metadata": {},
   "outputs": [],
   "source": [
    "# X = 3\n",
    "\n",
    "img_size = 224 \n",
    "#256\n",
    "\n",
    "# img_single = X_test[X]\n",
    "# img_single = cv2.resize(img_single, (img_size, img_size))\n",
    "# img_single = (np.expand_dims(img_single, 0))\n",
    "# img_single = img_single.reshape(img_single.shape[0],224,224,3)\n",
    "\n",
    "# predictions_single = model.predict(img_single)\n",
    "# print('A.I predicts:',categories[np.argmax(predictions_single)])\n",
    "\n",
    "def predict_label(img_path):\n",
    "    image=cv2.imread(img_path)\n",
    "    image = cv2.cvtColor(image, cv2.COLOR_BGR2RGB)  \n",
    "    image =cv2.resize(image,(img_size,img_size,3)) \n",
    "    i = image_utils.img_to_array(image)/255.0\n",
    "    i = i.reshape(1,img_size,img_size,1)\n",
    "    #p = model.predict_classes(i)\n",
    "    predict_x=new_model.predict(i) \n",
    "#     p=np.argmax(predict_x,axis=1)\n",
    "    return predict_x\n"
   ]
  },
  {
   "cell_type": "code",
   "execution_count": 11,
   "id": "1f643bdb",
   "metadata": {},
   "outputs": [
    {
     "ename": "error",
     "evalue": "OpenCV(4.6.0) :-1: error: (-5:Bad argument) in function 'resize'\n> Overload resolution failed:\n>  - Can't parse 'dsize'. Expected sequence length 2, got 3\n>  - Can't parse 'dsize'. Expected sequence length 2, got 3\n",
     "output_type": "error",
     "traceback": [
      "\u001b[1;31m---------------------------------------------------------------------------\u001b[0m",
      "\u001b[1;31merror\u001b[0m                                     Traceback (most recent call last)",
      "\u001b[1;32m~\\AppData\\Local\\Temp\\ipykernel_2464\\2382439131.py\u001b[0m in \u001b[0;36m<module>\u001b[1;34m\u001b[0m\n\u001b[0;32m      2\u001b[0m \u001b[1;31m#path_2=\"D:/DataSets/X ray/chest_xray/val/ABNORMAL/person1946_bacteria_4874.jpeg\"\u001b[0m\u001b[1;33m\u001b[0m\u001b[1;33m\u001b[0m\u001b[1;33m\u001b[0m\u001b[0m\n\u001b[0;32m      3\u001b[0m \u001b[1;33m\u001b[0m\u001b[0m\n\u001b[1;32m----> 4\u001b[1;33m \u001b[0mpredict_label\u001b[0m\u001b[1;33m(\u001b[0m\u001b[0mpath_1\u001b[0m\u001b[1;33m)\u001b[0m\u001b[1;33m\u001b[0m\u001b[1;33m\u001b[0m\u001b[0m\n\u001b[0m",
      "\u001b[1;32m~\\AppData\\Local\\Temp\\ipykernel_2464\\1830779226.py\u001b[0m in \u001b[0;36mpredict_label\u001b[1;34m(img_path)\u001b[0m\n\u001b[0;32m     15\u001b[0m     \u001b[0mimage\u001b[0m\u001b[1;33m=\u001b[0m\u001b[0mcv2\u001b[0m\u001b[1;33m.\u001b[0m\u001b[0mimread\u001b[0m\u001b[1;33m(\u001b[0m\u001b[0mimg_path\u001b[0m\u001b[1;33m)\u001b[0m\u001b[1;33m\u001b[0m\u001b[1;33m\u001b[0m\u001b[0m\n\u001b[0;32m     16\u001b[0m     \u001b[0mimage\u001b[0m \u001b[1;33m=\u001b[0m \u001b[0mcv2\u001b[0m\u001b[1;33m.\u001b[0m\u001b[0mcvtColor\u001b[0m\u001b[1;33m(\u001b[0m\u001b[0mimage\u001b[0m\u001b[1;33m,\u001b[0m \u001b[0mcv2\u001b[0m\u001b[1;33m.\u001b[0m\u001b[0mCOLOR_BGR2RGB\u001b[0m\u001b[1;33m)\u001b[0m\u001b[1;33m\u001b[0m\u001b[1;33m\u001b[0m\u001b[0m\n\u001b[1;32m---> 17\u001b[1;33m     \u001b[0mimage\u001b[0m \u001b[1;33m=\u001b[0m\u001b[0mcv2\u001b[0m\u001b[1;33m.\u001b[0m\u001b[0mresize\u001b[0m\u001b[1;33m(\u001b[0m\u001b[0mimage\u001b[0m\u001b[1;33m,\u001b[0m\u001b[1;33m(\u001b[0m\u001b[0mimg_size\u001b[0m\u001b[1;33m,\u001b[0m\u001b[0mimg_size\u001b[0m\u001b[1;33m,\u001b[0m\u001b[1;36m3\u001b[0m\u001b[1;33m)\u001b[0m\u001b[1;33m)\u001b[0m\u001b[1;33m\u001b[0m\u001b[1;33m\u001b[0m\u001b[0m\n\u001b[0m\u001b[0;32m     18\u001b[0m     \u001b[0mi\u001b[0m \u001b[1;33m=\u001b[0m \u001b[0mimage_utils\u001b[0m\u001b[1;33m.\u001b[0m\u001b[0mimg_to_array\u001b[0m\u001b[1;33m(\u001b[0m\u001b[0mimage\u001b[0m\u001b[1;33m)\u001b[0m\u001b[1;33m/\u001b[0m\u001b[1;36m255.0\u001b[0m\u001b[1;33m\u001b[0m\u001b[1;33m\u001b[0m\u001b[0m\n\u001b[0;32m     19\u001b[0m     \u001b[0mi\u001b[0m \u001b[1;33m=\u001b[0m \u001b[0mi\u001b[0m\u001b[1;33m.\u001b[0m\u001b[0mreshape\u001b[0m\u001b[1;33m(\u001b[0m\u001b[1;36m1\u001b[0m\u001b[1;33m,\u001b[0m\u001b[0mimg_size\u001b[0m\u001b[1;33m,\u001b[0m\u001b[0mimg_size\u001b[0m\u001b[1;33m,\u001b[0m\u001b[1;36m1\u001b[0m\u001b[1;33m)\u001b[0m\u001b[1;33m\u001b[0m\u001b[1;33m\u001b[0m\u001b[0m\n",
      "\u001b[1;31merror\u001b[0m: OpenCV(4.6.0) :-1: error: (-5:Bad argument) in function 'resize'\n> Overload resolution failed:\n>  - Can't parse 'dsize'. Expected sequence length 2, got 3\n>  - Can't parse 'dsize'. Expected sequence length 2, got 3\n"
     ]
    }
   ],
   "source": [
    "path_1=\"D:/DataSets/X ray/chest_xray/val/NORMAL/NORMAL2-IM-1430-0001.jpeg\"\n",
    "#path_2=\"D:/DataSets/X ray/chest_xray/val/ABNORMAL/person1946_bacteria_4874.jpeg\"\n",
    "\n",
    "predict_label(path_1)"
   ]
  },
  {
   "cell_type": "code",
   "execution_count": null,
   "id": "b43fdccb",
   "metadata": {},
   "outputs": [],
   "source": []
  },
  {
   "cell_type": "code",
   "execution_count": 45,
   "id": "b3584889",
   "metadata": {},
   "outputs": [],
   "source": [
    "from keras.preprocessing import image\n",
    "from keras.utils import image_utils"
   ]
  },
  {
   "cell_type": "code",
   "execution_count": 56,
   "id": "a489e21d",
   "metadata": {},
   "outputs": [],
   "source": [
    "def predict_value(path):\n",
    "    img = image_utils.load_img(path, target_size=(256,256))\n",
    "    # This target size should be equal with previously added in code \n",
    "\n",
    "    img = image_utils.img_to_array(img)/255\n",
    "    img = np.array([img])\n",
    "    img.shape\n",
    "\n",
    "    \n",
    "    predict_x=model.predict(img) \n",
    "    classes_x=np.argmax(predict_x,axis=1)\n",
    "    if classes_x[0]== 0:\n",
    "        result = 'Lung Cancer'\n",
    "    elif classes_x[0]== 1:\n",
    "        result = 'Healthy'\n",
    "    else: \n",
    "        result = 'TB'\n",
    "    \n",
    "    return result"
   ]
  },
  {
   "cell_type": "code",
   "execution_count": 24,
   "id": "861e4e68",
   "metadata": {},
   "outputs": [],
   "source": [
    "def predict_value(path):\n",
    "    # load the image, swap color channels, and resize it to be a fixed\n",
    "    # 224x224 pixels while ignoring aspect ratio\n",
    "    image = cv2.imread(path)\n",
    "    image = cv2.cvtColor(image, cv2.COLOR_BGR2RGB)\n",
    "    image = cv2.resize(image, (224, 224))\n",
    "    # update the data and labels lists, respectively\n",
    "    #data.append(image)\n",
    "    #labels.append(label)\n",
    "    img = np.array(image) / 255.0\n",
    "    #labels = np.array(labels) \n",
    "    img = np.array([img])\n",
    "    img.shape\n",
    "    predict_x=new_model.predict(img) \n",
    "    classes_x=np.argmax(predict_x,axis=1)\n",
    "    if classes_x[0]== 0:\n",
    "        result = 'Lung Cancer'\n",
    "    elif classes_x[0]== 1:\n",
    "        result = 'Healthy'\n",
    "    else: \n",
    "        result = 'TB'\n",
    "    \n",
    "    return result\n"
   ]
  },
  {
   "cell_type": "code",
   "execution_count": 20,
   "id": "f8f6c385",
   "metadata": {},
   "outputs": [],
   "source": [
    "# def predict_label(img_path):\n",
    "#     img=cv2.imread(img_path)\n",
    "#     gray = cv2.cvtColor(img, cv2.COLOR_BGR2GRAY)  \n",
    "#     resized=cv2.resize(gray,(img_size,img_size)) \n",
    "#     i = image_utils.img_to_array(resized)/255.0\n",
    "#     i = i.reshape(1,img_size,img_size,1)\n",
    "#     #p = model.predict_classes(i)\n",
    "#     predict_x=model.predict(i) \n",
    "#     p=np.argmax(predict_x,axis=1)\n",
    "#     return dic[p[0]]\n"
   ]
  },
  {
   "cell_type": "code",
   "execution_count": 25,
   "id": "f60dd06f",
   "metadata": {},
   "outputs": [
    {
     "name": "stdout",
     "output_type": "stream",
     "text": [
      "1/1 [==============================] - 3s 3s/step\n"
     ]
    },
    {
     "data": {
      "text/plain": [
       "'Lung Cancer'"
      ]
     },
     "execution_count": 25,
     "metadata": {},
     "output_type": "execute_result"
    }
   ],
   "source": [
    "path_1=\"D:/DataSets/X ray/chest_xray/val/NORMAL/NORMAL2-IM-1430-0001.jpeg\"\n",
    "#path_2=\"D:/DataSets/X ray/chest_xray/val/ABNORMAL/person1946_bacteria_4874.jpeg\"\n",
    "\n",
    "predict_value(path_1)"
   ]
  },
  {
   "cell_type": "code",
   "execution_count": null,
   "id": "9dc34650",
   "metadata": {},
   "outputs": [],
   "source": []
  }
 ],
 "metadata": {
  "kernelspec": {
   "display_name": "Python 3 (ipykernel)",
   "language": "python",
   "name": "python3"
  },
  "language_info": {
   "codemirror_mode": {
    "name": "ipython",
    "version": 3
   },
   "file_extension": ".py",
   "mimetype": "text/x-python",
   "name": "python",
   "nbconvert_exporter": "python",
   "pygments_lexer": "ipython3",
   "version": "3.8.13"
  },
  "varInspector": {
   "cols": {
    "lenName": 16,
    "lenType": 16,
    "lenVar": 40
   },
   "kernels_config": {
    "python": {
     "delete_cmd_postfix": "",
     "delete_cmd_prefix": "del ",
     "library": "var_list.py",
     "varRefreshCmd": "print(var_dic_list())"
    },
    "r": {
     "delete_cmd_postfix": ") ",
     "delete_cmd_prefix": "rm(",
     "library": "var_list.r",
     "varRefreshCmd": "cat(var_dic_list()) "
    }
   },
   "types_to_exclude": [
    "module",
    "function",
    "builtin_function_or_method",
    "instance",
    "_Feature"
   ],
   "window_display": false
  }
 },
 "nbformat": 4,
 "nbformat_minor": 5
}
